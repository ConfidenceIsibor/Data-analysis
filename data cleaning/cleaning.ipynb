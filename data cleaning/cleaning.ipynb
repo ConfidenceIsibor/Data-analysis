{
 "cells": [
  {
   "cell_type": "code",
   "execution_count": 91,
   "metadata": {},
   "outputs": [
    {
     "name": "stdout",
     "output_type": "stream",
     "text": [
      "df is written to excel\n"
     ]
    }
   ],
   "source": [
    "import pandas as pd\n",
    "df = pd.read_excel(r'C:\\Users\\confidence\\Desktop\\data cleaning\\Customer Call List.xlsx')\n",
    "df\n",
    "\n",
    "df = df.drop_duplicates()\n",
    "df = df.drop(columns='Not_Useful_Column')\n",
    "# df['Last_Name'] = df['Last_Name'].str.lstrip(\"...\")\n",
    "# df['Last_Name'] = df['Last_Name'].str.lstrip(\"/\")\n",
    "# df['Last_Name'] = df['Last_Name'].str.rstrip(\"_\")\n",
    "df['Last_Name'] = df['Last_Name'].str.strip(\"123 _ . /\")\n",
    "# df['Phone_Number']= df['Phone_Number'].str.replace('[^a-zA-Z0-9]','') \n",
    "# df['Phone_Number'] = df['Phone_Number'].astype(str).str.replace('[^a-zA-Z0-9]', '')\n",
    "df['Phone_Number'] = df['Phone_Number'].astype(str).replace('[^0-9]', '', regex=True)\n",
    "df\n",
    "# df['Phone_Number'] = df['Phone_Number'].apply(lambda x:str(x))\n",
    "df['Phone_Number'] = df['Phone_Number'].astype(str).apply(lambda x: x[0:3] + '-' + x[3:6] + '-' + x[6:10])\n",
    "df\n",
    "df['Phone_Number'] = df['Phone_Number'].str.replace('--','') \n",
    "df\n",
    "df[['Street_address','State','Zip_code']]=  df['Address'].str.split(',',n=2, expand=True)\n",
    "df\n",
    "df['Paying Customer'] = df['Paying Customer'].str.replace('Yes','Y')\n",
    "df['Paying Customer'] = df['Paying Customer'].str.replace('No','N')\n",
    "df['Do_Not_Contact'] = df['Do_Not_Contact'].str.replace('Yes','Y')\n",
    "df['Do_Not_Contact'] = df['Do_Not_Contact'].str.replace('No','N')\n",
    "# df = df.replace('N/a','')\n",
    "# df = df.replace('NaN','')\n",
    "\n",
    "df.fillna('') \n",
    "for x in df.index:\n",
    "    if df.loc[x, 'Do_Not_Contact'] == 'Y':\n",
    "       df.drop(x,inplace=True)\n",
    "\n",
    "\n",
    "for x in df.index:\n",
    "    if df.loc[x, 'Phone_Number'] == '':\n",
    "       df.drop(x,inplace=True)\n",
    "df\n",
    "df.reset_index(drop=True)\n",
    "df\n",
    "datatoexcel = pd.ExcelWriter('Book1.xlsx')\n",
    "df.to_excel(datatoexcel)\n",
    "print('df is written to excel')\n",
    "\n",
    "#another way to drop null values\n",
    "# df = df.dropna(subset='Phone_Number'), inplace = True)"
   ]
  },
  {
   "cell_type": "code",
   "execution_count": null,
   "metadata": {},
   "outputs": [],
   "source": []
  },
  {
   "cell_type": "code",
   "execution_count": null,
   "metadata": {},
   "outputs": [],
   "source": []
  }
 ],
 "metadata": {
  "kernelspec": {
   "display_name": "Python 3",
   "language": "python",
   "name": "python3"
  },
  "language_info": {
   "codemirror_mode": {
    "name": "ipython",
    "version": 3
   },
   "file_extension": ".py",
   "mimetype": "text/x-python",
   "name": "python",
   "nbconvert_exporter": "python",
   "pygments_lexer": "ipython3",
   "version": "3.12.0"
  }
 },
 "nbformat": 4,
 "nbformat_minor": 2
}
